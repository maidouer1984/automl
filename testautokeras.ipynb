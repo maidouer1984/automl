{
 "cells": [
  {
   "cell_type": "code",
   "execution_count": 14,
   "metadata": {
    "scrolled": true
   },
   "outputs": [
    {
     "name": "stdout",
     "output_type": "stream",
     "text": [
      "(60000, 28, 28)\n",
      "(60000,)\n",
      "[5 0 4]\n"
     ]
    }
   ],
   "source": [
    "import numpy as np\n",
    "import tensorflow as tf\n",
    "from tensorflow.keras.datasets import mnist\n",
    "from tensorflow.python.keras.utils.data_utils import Sequence\n",
    "import autokeras as ak\n",
    "(x_train, y_train), (x_test, y_test) = mnist.load_data()\n",
    "print(x_train.shape)  # (60000, 28, 28)\n",
    "print(y_train.shape)  # (60000,)\n",
    "print(y_train[:3])  # array([7, 2, 1], dtype=uint8)\n",
    "\n",
    "# Initialize the image classifier.\n",
    "clf = ak.ImageClassifier(\n",
    "    overwrite=True,\n",
    "    max_trials=1)\n",
    "# Feed the image classifier with training data.\n",
    "clf.fit(x_train, y_train, epochs=10)\n",
    "\n",
    "\n",
    "# Predict with the best model.\n",
    "predicted_y = clf.predict(x_test)\n",
    "print(predicted_y)\n",
    "\n",
    "\n",
    "# Evaluate the best model with testing data.\n",
    "print(clf.evaluate(x_test, y_test))"
   ]
  },
  {
   "cell_type": "code",
   "execution_count": 16,
   "metadata": {
    "scrolled": true
   },
   "outputs": [
    {
     "name": "stdout",
     "output_type": "stream",
     "text": [
      "Trial 1 Complete [00h 20m 26s]\n",
      "val_loss: 0.039731465280056\n",
      "\n",
      "Best val_loss So Far: 0.039731465280056\n",
      "Total elapsed time: 00h 20m 26s\n",
      "INFO:tensorflow:Oracle triggered exit\n",
      "Epoch 1/10\n",
      "1875/1875 [==============================] - 143s 76ms/step - loss: 0.1598 - accuracy: 0.9514\n",
      "Epoch 2/10\n",
      "1875/1875 [==============================] - 142s 76ms/step - loss: 0.0742 - accuracy: 0.9771\n",
      "Epoch 3/10\n",
      "1875/1875 [==============================] - 142s 76ms/step - loss: 0.0602 - accuracy: 0.9811\n",
      "Epoch 4/10\n",
      "1875/1875 [==============================] - 142s 76ms/step - loss: 0.0509 - accuracy: 0.9840\n",
      "Epoch 5/10\n",
      "1875/1875 [==============================] - 142s 76ms/step - loss: 0.0451 - accuracy: 0.9861\n",
      "Epoch 6/10\n",
      "1875/1875 [==============================] - 142s 76ms/step - loss: 0.0398 - accuracy: 0.9866\n",
      "Epoch 7/10\n",
      "1875/1875 [==============================] - 142s 76ms/step - loss: 0.0382 - accuracy: 0.9875\n",
      "Epoch 8/10\n",
      "1875/1875 [==============================] - 142s 76ms/step - loss: 0.0350 - accuracy: 0.9883\n",
      "Epoch 9/10\n",
      "1875/1875 [==============================] - 142s 76ms/step - loss: 0.0329 - accuracy: 0.9895\n",
      "Epoch 10/10\n",
      "1875/1875 [==============================] - 142s 76ms/step - loss: 0.0294 - accuracy: 0.9902\n",
      "INFO:tensorflow:Assets written to: ./image_classifier/best_model/assets\n",
      "[['7']\n",
      " ['2']\n",
      " ['1']\n",
      " ...\n",
      " ['4']\n",
      " ['5']\n",
      " ['6']]\n",
      "313/313 [==============================] - 5s 17ms/step - loss: 0.0364 - accuracy: 0.9895\n",
      "[0.03642403334379196, 0.9894999861717224]\n"
     ]
    }
   ],
   "source": []
  },
  {
   "cell_type": "code",
   "execution_count": null,
   "metadata": {},
   "outputs": [],
   "source": [
    "import os\n",
    "import numpy as np\n",
    "import tensorflow as tf\n",
    "from tensorflow.keras.datasets import imdb\n",
    "from sklearn.datasets import load_files\n",
    "\n",
    "dataset = tf.keras.utils.get_file(\n",
    "    fname=\"aclImdb.tar.gz\",\n",
    "    origin=\"http://ai.stanford.edu/~amaas/data/sentiment/aclImdb_v1.tar.gz\",\n",
    "    extract=True,\n",
    ")\n",
    "\n",
    "# set path to dataset\n",
    "IMDB_DATADIR = os.path.join(os.path.dirname(dataset), 'aclImdb')\n",
    "\n",
    "classes = ['pos', 'neg']\n",
    "train_data = load_files(os.path.join(IMDB_DATADIR, 'train'), shuffle=True, categories=classes)\n",
    "test_data = load_files(os.path.join(IMDB_DATADIR,  'test'), shuffle=False, categories=classes)\n",
    "\n",
    "x_train = np.array(train_data.data)\n",
    "y_train = np.array(train_data.target)\n",
    "x_test = np.array(test_data.data)\n",
    "y_test = np.array(test_data.target)\n",
    "\n",
    "print(x_train.shape)  # (25000,)\n",
    "print(y_train.shape)  # (25000, 1)\n",
    "print(x_train[0][:50])  # this film was just brilliant casting"
   ]
  },
  {
   "cell_type": "code",
   "execution_count": null,
   "metadata": {},
   "outputs": [],
   "source": []
  }
 ],
 "metadata": {
  "kernelspec": {
   "display_name": "Python 3",
   "language": "python",
   "name": "python3"
  },
  "language_info": {
   "codemirror_mode": {
    "name": "ipython",
    "version": 3
   },
   "file_extension": ".py",
   "mimetype": "text/x-python",
   "name": "python",
   "nbconvert_exporter": "python",
   "pygments_lexer": "ipython3",
   "version": "3.6.9"
  }
 },
 "nbformat": 4,
 "nbformat_minor": 2
}
