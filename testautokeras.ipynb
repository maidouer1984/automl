{
 "cells": [
  {
   "cell_type": "code",
   "execution_count": 2,
   "metadata": {},
   "outputs": [],
   "source": [
    "from keras.datasets import mnist\n",
    "from autokeras import ImageClassifier"
   ]
  },
  {
   "cell_type": "code",
   "execution_count": 3,
   "metadata": {},
   "outputs": [
    {
     "name": "stdout",
     "output_type": "stream",
     "text": [
      "Downloading data from https://storage.googleapis.com/tensorflow/tf-keras-datasets/mnist.npz\n",
      "11493376/11490434 [==============================] - 10s 1us/step\n"
     ]
    }
   ],
   "source": [
    "(x_train, y_train), (x_test, y_test) = mnist.load_data()\n",
    "x_train = x_train.reshape(x_train.shape + (1, )) # (1, ) denotes the channles which is 1 in this case\n",
    "x_test = x_test.reshape(x_test.shape + (1, )) # (1, ) denotes the channles which is 1 in this case"
   ]
  },
  {
   "cell_type": "code",
   "execution_count": null,
   "metadata": {},
   "outputs": [
    {
     "name": "stdout",
     "output_type": "stream",
     "text": [
      "INFO:tensorflow:Reloading Oracle from existing project ./image_classifier/oracle.json\n",
      "\n",
      "Search: Running Trial #1\n",
      "\n",
      "Hyperparameter    |Value             |Best Value So Far \n",
      "image_block_1/b...|vanilla           |?                 \n",
      "image_block_1/n...|True              |?                 \n",
      "image_block_1/a...|False             |?                 \n",
      "image_block_1/c...|3                 |?                 \n",
      "image_block_1/c...|1                 |?                 \n",
      "image_block_1/c...|2                 |?                 \n",
      "image_block_1/c...|True              |?                 \n",
      "image_block_1/c...|False             |?                 \n",
      "image_block_1/c...|0.25              |?                 \n",
      "image_block_1/c...|32                |?                 \n",
      "image_block_1/c...|64                |?                 \n",
      "classification_...|flatten           |?                 \n",
      "classification_...|0.5               |?                 \n",
      "optimizer         |adam              |?                 \n",
      "learning_rate     |0.001             |?                 \n",
      "\n",
      "Epoch 1/1000\n",
      "1500/1500 [==============================] - 124s 83ms/step - loss: 0.1780 - accuracy: 0.9455 - val_loss: 0.0667 - val_accuracy: 0.9818\n",
      "Epoch 2/1000\n",
      "1500/1500 [==============================] - 123s 82ms/step - loss: 0.0789 - accuracy: 0.9760 - val_loss: 0.0504 - val_accuracy: 0.9854\n",
      "Epoch 3/1000\n",
      "1500/1500 [==============================] - 124s 83ms/step - loss: 0.0625 - accuracy: 0.9805 - val_loss: 0.0468 - val_accuracy: 0.9871\n",
      "Epoch 4/1000\n",
      "1500/1500 [==============================] - 123s 82ms/step - loss: 0.0550 - accuracy: 0.9822 - val_loss: 0.0440 - val_accuracy: 0.9864\n",
      "Epoch 5/1000\n",
      "1500/1500 [==============================] - 123s 82ms/step - loss: 0.0474 - accuracy: 0.9851 - val_loss: 0.0434 - val_accuracy: 0.9875\n",
      "Epoch 6/1000\n",
      "1500/1500 [==============================] - 123s 82ms/step - loss: 0.0425 - accuracy: 0.9865 - val_loss: 0.0469 - val_accuracy: 0.9856\n",
      "Epoch 7/1000\n",
      "1500/1500 [==============================] - 123s 82ms/step - loss: 0.0387 - accuracy: 0.9879 - val_loss: 0.0407 - val_accuracy: 0.9885\n",
      "Epoch 8/1000\n",
      "  10/1500 [..............................] - ETA: 1:45 - loss: 0.0440 - accuracy: 0.9812"
     ]
    }
   ],
   "source": [
    "import autokeras as ak\n",
    "\n",
    "clf = ak.ImageClassifier()\n",
    "clf.fit(x_train, y_train)\n",
    "results = clf.predict(x_test)"
   ]
  },
  {
   "cell_type": "code",
   "execution_count": null,
   "metadata": {},
   "outputs": [],
   "source": []
  }
 ],
 "metadata": {
  "kernelspec": {
   "display_name": "Python 3",
   "language": "python",
   "name": "python3"
  },
  "language_info": {
   "codemirror_mode": {
    "name": "ipython",
    "version": 3
   },
   "file_extension": ".py",
   "mimetype": "text/x-python",
   "name": "python",
   "nbconvert_exporter": "python",
   "pygments_lexer": "ipython3",
   "version": "3.6.9"
  }
 },
 "nbformat": 4,
 "nbformat_minor": 2
}
